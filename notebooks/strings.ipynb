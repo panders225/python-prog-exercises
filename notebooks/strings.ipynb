{
 "cells": [
  {
   "cell_type": "markdown",
   "metadata": {},
   "source": [
    "## Strings"
   ]
  },
  {
   "cell_type": "code",
   "execution_count": 1,
   "metadata": {
    "collapsed": true
   },
   "outputs": [],
   "source": [
    "from math import ceil, floor\n",
    "import unittest"
   ]
  },
  {
   "cell_type": "code",
   "execution_count": null,
   "metadata": {
    "collapsed": true
   },
   "outputs": [],
   "source": [
    "# check if a given string is a palindrome\n",
    "\n",
    "def is_palindrome(my_str):\n",
    "    str"
   ]
  },
  {
   "cell_type": "code",
   "execution_count": null,
   "metadata": {},
   "outputs": [],
   "source": [
    "# for even-length strings \n",
    "test = 'helloh'\n",
    "str_len = int(len(test) / 2)\n",
    "\n",
    "str_one, str_two = [], []\n",
    "\n",
    "for i in range(str_len):\n",
    "    str_one.append(test[i])\n",
    "    \n",
    "for j in range(str_len, str_len*2):\n",
    "    str_two.append(test[j])\n",
    "\n",
    "\n",
    "print(sorted(str_one) == sorted(str_two))"
   ]
  },
  {
   "cell_type": "code",
   "execution_count": null,
   "metadata": {},
   "outputs": [],
   "source": [
    "# for odd-length strings\n",
    "test = 'heloleh'\n",
    "str_len = int(len(test) / 2)\n",
    "print(str_len)"
   ]
  },
  {
   "cell_type": "code",
   "execution_count": null,
   "metadata": {},
   "outputs": [],
   "source": [
    "test = 'heloleh'\n",
    "\n",
    "str_len = int(len(test) / 2)\n",
    "print(str_len)\n",
    "\n",
    "str_one, str_two = [], []\n",
    "\n",
    "for i in range(str_len):\n",
    "    str_one.append(test[i])\n",
    "for j in range((str_len * 2) - 1, str_len - 1, -1):\n",
    "    str_two.append(test[j])\n",
    "    \n",
    "print(sorted(str_one) == sorted(str_two))"
   ]
  },
  {
   "cell_type": "code",
   "execution_count": null,
   "metadata": {},
   "outputs": [],
   "source": [
    "test = 'heloleh'\n",
    "str_len = len(test)\n",
    "print('str_len: ', str_len)\n",
    "\n",
    "str_one, str_two = [], []\n",
    "\n",
    "for i in range(int(floor(str_len/2))):\n",
    "    print(i)\n",
    "    \n",
    "for j in range(str_len - 1, int(ceil(str_len/2)) - 1, -1):\n",
    "    print(j)"
   ]
  },
  {
   "cell_type": "code",
   "execution_count": null,
   "metadata": {},
   "outputs": [],
   "source": [
    "test = 'helleho'\n",
    "str_len = len(test)\n",
    "\n",
    "str_one, str_two = [], []\n",
    "\n",
    "for i in range(int(floor(str_len/2))):\n",
    "    str_one.append(test[i])\n",
    "    \n",
    "for j in range(str_len - 1, int(ceil(str_len/2)) - 1, -1):\n",
    "    str_two.append(test[j])\n",
    "    \n",
    "print(sorted(str_one) == sorted(str_two))"
   ]
  },
  {
   "cell_type": "code",
   "execution_count": null,
   "metadata": {},
   "outputs": [],
   "source": [
    "# iterate\n",
    "test = 'helopleh'\n",
    "str_len = len(test)\n",
    "\n",
    "str_one = [test[i] for i in range(int(floor(str_len / 2)))]\n",
    "str_two = [test[j] for j in range(str_len - 1, int(ceil(str_len / 2)) - 1, -1)]\n",
    "\n",
    "print(sorted(str_one) == sorted(str_two))\n"
   ]
  },
  {
   "cell_type": "code",
   "execution_count": null,
   "metadata": {
    "collapsed": true
   },
   "outputs": [],
   "source": [
    "def is_palindrome(my_str):\n",
    "    \"\"\"\n",
    "        Takes a string as input and checks for palindrome status.\n",
    "        Works similarly for even and odd-length strings.\n",
    "        Returns: Boolean, True if palindrome, False if not.\n",
    "    \"\"\"\n",
    "    str_len = len(my_str)\n",
    "    \n",
    "    str_one = [my_str[i] for i in range(int(floor(str_len / 2)))]\n",
    "    str_two = [my_str[j] for j in range(str_len - 1, int(ceil(str_len / 2)) -1, -1)]\n",
    "    \n",
    "    return sorted(str_one) == sorted(str_two)"
   ]
  },
  {
   "cell_type": "code",
   "execution_count": null,
   "metadata": {},
   "outputs": [],
   "source": [
    "print(is_palindrome('hello'))\n",
    "print(is_palindrome('helleh'))\n",
    "print(is_palindrome('adfofda'))\n"
   ]
  },
  {
   "cell_type": "code",
   "execution_count": 2,
   "metadata": {},
   "outputs": [],
   "source": [
    "def is_palindrome(my_str):\n",
    "    \"\"\"\n",
    "        Takes a string as input and checks for palindrome status.\n",
    "        Works similarly for even and odd-length strings.\n",
    "        Returns: Boolean, True if palindrome, False if not.\n",
    "    \"\"\"\n",
    "    assert type(my_str) is str, \"Please enter string as input\"\n",
    "    \n",
    "    str_len = len(my_str)\n",
    "    \n",
    "    str_one = [my_str[i] for i in range(int(floor(str_len / 2)))]\n",
    "    str_two = [my_str[j] for j in range(str_len - 1, int(ceil(str_len / 2)) -1, -1)]\n",
    "    \n",
    "    return sorted(str_one) == sorted(str_two)"
   ]
  },
  {
   "cell_type": "code",
   "execution_count": 5,
   "metadata": {},
   "outputs": [
    {
     "name": "stderr",
     "output_type": "stream",
     "text": [
      ".\n",
      "----------------------------------------------------------------------\n",
      "Ran 1 test in 0.002s\n",
      "\n",
      "OK\n"
     ]
    }
   ],
   "source": [
    "import unittest\n",
    "\n",
    "class palindromeTestCase(unittest.TestCase):\n",
    "    \"\"\"Tests for palindrome function\"\"\"\n",
    "    \n",
    "    def test_is_input_string(self):\n",
    "        self.assertFalse(is_palindrome('hello'))\n",
    "        \n",
    "        \n",
    "if __name__ == '__main__':\n",
    "    unittest.main(argv=['ignore first argv'], exit=False)"
   ]
  },
  {
   "cell_type": "code",
   "execution_count": 7,
   "metadata": {
    "collapsed": true
   },
   "outputs": [],
   "source": [
    "# official solution\n",
    "def is_palindromic(s):\n",
    "    return all(s[i] == s[~i] for i in range(len(s) // 2))"
   ]
  },
  {
   "cell_type": "markdown",
   "metadata": {},
   "source": [
    "### Intermission"
   ]
  },
  {
   "cell_type": "code",
   "execution_count": 14,
   "metadata": {},
   "outputs": [
    {
     "data": {
      "text/plain": [
       "'Name Archimedes, Rank 3'"
      ]
     },
     "execution_count": 14,
     "metadata": {},
     "output_type": "execute_result"
    }
   ],
   "source": [
    "def int_to_string(x):\n",
    "    \"\"\"convert a number from an int to a string\"\"\"\n",
    "    is_negative = False\n",
    "    if x < 0:\n",
    "        x, is_negative = -x, True\n",
    "        \n",
    "    s = []\n",
    "    while True:\n",
    "        s.app"
   ]
  },
  {
   "cell_type": "code",
   "execution_count": 27,
   "metadata": {
    "collapsed": true
   },
   "outputs": [],
   "source": [
    "import string\n",
    "from math import floor"
   ]
  },
  {
   "cell_type": "code",
   "execution_count": 33,
   "metadata": {},
   "outputs": [
    {
     "name": "stdout",
     "output_type": "stream",
     "text": [
      "A\n"
     ]
    }
   ],
   "source": [
    "alpha = list(string.ascii_uppercase)\n",
    "\n",
    "col = 1\n",
    "col_idx = col - 1\n",
    "\n",
    "print(alpha[col_idx])\n",
    "\n",
    "if col_idx > 25:\n",
    "    col_idx \n"
   ]
  },
  {
   "cell_type": "code",
   "execution_count": 39,
   "metadata": {},
   "outputs": [
    {
     "name": "stdout",
     "output_type": "stream",
     "text": [
      "1\n",
      "1\n"
     ]
    }
   ],
   "source": [
    "print(floor(26 / 25))\n",
    "print(26 % 25)"
   ]
  },
  {
   "cell_type": "code",
   "execution_count": 42,
   "metadata": {},
   "outputs": [
    {
     "name": "stdout",
     "output_type": "stream",
     "text": [
      "A\n",
      "B\n"
     ]
    }
   ],
   "source": [
    "print(alpha[floor(26 / 25) - 1])\n",
    "print(alpha[(26 % 25)])"
   ]
  },
  {
   "cell_type": "code",
   "execution_count": 46,
   "metadata": {},
   "outputs": [
    {
     "name": "stdout",
     "output_type": "stream",
     "text": [
      "B\n"
     ]
    }
   ],
   "source": [
    "# take as input a 1-indexed col number from user\n",
    "col = 2 # should return 'B'\n",
    "col_idx = col - 1\n",
    "\n",
    "alpha = list(string.ascii_uppercase)\n",
    "\n",
    "quotient = floor(col_idx / 25)\n",
    "mod = col_idx % 25\n",
    "\n",
    "if quotient == 0:\n",
    "    print(alpha[mod])"
   ]
  },
  {
   "cell_type": "code",
   "execution_count": 74,
   "metadata": {
    "collapsed": true
   },
   "outputs": [],
   "source": [
    "import string\n",
    "from math import floor\n",
    "\n",
    "def int_to_col(col):\n",
    "    \"\"\"\n",
    "        Important: Please specify the index starting from 1.\n",
    "        Param: col - int, index of column\n",
    "        Returns: the letter id for a column index.\n",
    "    \"\"\"\n",
    "    \n",
    "    assert type(col) is int, \"Please enter integer as input\"\n",
    "    \n",
    "    alpha = list(string.ascii_uppercase)\n",
    "    col_idx = col - 1\n",
    "    \n",
    "    quotient, mod = floor(col_idx / 26), col_idx % 26\n",
    "    \n",
    "    if quotient == 0:\n",
    "        return alpha[mod]\n",
    "    \n",
    "    else:\n",
    "        quotient_idx = quotient - 1\n",
    "        start = alpha[quotient_idx]\n",
    "        end = alpha[mod]\n",
    "        return start + end\n",
    "    \n",
    "    "
   ]
  },
  {
   "cell_type": "code",
   "execution_count": 86,
   "metadata": {},
   "outputs": [
    {
     "name": "stderr",
     "output_type": "stream",
     "text": [
      "F....\n",
      "======================================================================\n",
      "FAIL: test_input_type (__main__.intToColTestCase)\n",
      "----------------------------------------------------------------------\n",
      "Traceback (most recent call last):\n",
      "  File \"<ipython-input-86-64642e00867a>\", line 17, in test_input_type\n",
      "    self.assertFalse(int_to_col('8'))\n",
      "  File \"<ipython-input-74-dbde9c91ce80>\", line 11, in int_to_col\n",
      "    assert type(col) is int, \"Please enter integer as input\"\n",
      "AssertionError: Please enter integer as input\n",
      "\n",
      "----------------------------------------------------------------------\n",
      "Ran 5 tests in 0.012s\n",
      "\n",
      "FAILED (failures=1)\n"
     ]
    }
   ],
   "source": [
    "import unittest \n",
    "\n",
    "class intToColTestCase(unittest.TestCase):\n",
    "    \"\"\"Generates test scenarios for our int_to_col function\"\"\"\n",
    "    \n",
    "    def test_return_correct_output(self):\n",
    "        \"\"\"does 7 return 'G'?\"\"\"\n",
    "        self.assertEqual(int_to_col(7), 'G')\n",
    "        \n",
    "    def test_return_correct_output2(self):\n",
    "        self.assertEqual(int_to_col(26), 'Z')\n",
    "        \n",
    "    def test_return_correct_output3(self):\n",
    "        self.assertEqual(int_to_col(27), 'AA')\n",
    "        \n",
    "    def test_input_type(self):\n",
    "        self.assertFalse(int_to_col('8'))\n",
    "        \n",
    "if __name__ == '__main__':\n",
    "    unittest.main(argv=['ignore first argv'], exit=False)"
   ]
  }
 ],
 "metadata": {
  "kernelspec": {
   "display_name": "Python 3",
   "language": "python",
   "name": "python3"
  },
  "language_info": {
   "codemirror_mode": {
    "name": "ipython",
    "version": 3
   },
   "file_extension": ".py",
   "mimetype": "text/x-python",
   "name": "python",
   "nbconvert_exporter": "python",
   "pygments_lexer": "ipython3",
   "version": "3.6.3"
  }
 },
 "nbformat": 4,
 "nbformat_minor": 2
}
