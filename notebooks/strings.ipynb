{
 "cells": [
  {
   "cell_type": "markdown",
   "metadata": {},
   "source": [
    "## Strings"
   ]
  },
  {
   "cell_type": "code",
   "execution_count": 1,
   "metadata": {
    "collapsed": true
   },
   "outputs": [],
   "source": [
    "from math import ceil, floor\n",
    "import unittest"
   ]
  },
  {
   "cell_type": "code",
   "execution_count": null,
   "metadata": {
    "collapsed": true
   },
   "outputs": [],
   "source": [
    "# check if a given string is a palindrome\n",
    "\n",
    "def is_palindrome(my_str):\n",
    "    str"
   ]
  },
  {
   "cell_type": "code",
   "execution_count": null,
   "metadata": {},
   "outputs": [],
   "source": [
    "# for even-length strings \n",
    "test = 'helloh'\n",
    "str_len = int(len(test) / 2)\n",
    "\n",
    "str_one, str_two = [], []\n",
    "\n",
    "for i in range(str_len):\n",
    "    str_one.append(test[i])\n",
    "    \n",
    "for j in range(str_len, str_len*2):\n",
    "    str_two.append(test[j])\n",
    "\n",
    "\n",
    "print(sorted(str_one) == sorted(str_two))"
   ]
  },
  {
   "cell_type": "code",
   "execution_count": null,
   "metadata": {},
   "outputs": [],
   "source": [
    "# for odd-length strings\n",
    "test = 'heloleh'\n",
    "str_len = int(len(test) / 2)\n",
    "print(str_len)"
   ]
  },
  {
   "cell_type": "code",
   "execution_count": null,
   "metadata": {},
   "outputs": [],
   "source": [
    "test = 'heloleh'\n",
    "\n",
    "str_len = int(len(test) / 2)\n",
    "print(str_len)\n",
    "\n",
    "str_one, str_two = [], []\n",
    "\n",
    "for i in range(str_len):\n",
    "    str_one.append(test[i])\n",
    "for j in range((str_len * 2) - 1, str_len - 1, -1):\n",
    "    str_two.append(test[j])\n",
    "    \n",
    "print(sorted(str_one) == sorted(str_two))"
   ]
  },
  {
   "cell_type": "code",
   "execution_count": null,
   "metadata": {},
   "outputs": [],
   "source": [
    "test = 'heloleh'\n",
    "str_len = len(test)\n",
    "print('str_len: ', str_len)\n",
    "\n",
    "str_one, str_two = [], []\n",
    "\n",
    "for i in range(int(floor(str_len/2))):\n",
    "    print(i)\n",
    "    \n",
    "for j in range(str_len - 1, int(ceil(str_len/2)) - 1, -1):\n",
    "    print(j)"
   ]
  },
  {
   "cell_type": "code",
   "execution_count": null,
   "metadata": {},
   "outputs": [],
   "source": [
    "test = 'helleho'\n",
    "str_len = len(test)\n",
    "\n",
    "str_one, str_two = [], []\n",
    "\n",
    "for i in range(int(floor(str_len/2))):\n",
    "    str_one.append(test[i])\n",
    "    \n",
    "for j in range(str_len - 1, int(ceil(str_len/2)) - 1, -1):\n",
    "    str_two.append(test[j])\n",
    "    \n",
    "print(sorted(str_one) == sorted(str_two))"
   ]
  },
  {
   "cell_type": "code",
   "execution_count": null,
   "metadata": {},
   "outputs": [],
   "source": [
    "# iterate\n",
    "test = 'helopleh'\n",
    "str_len = len(test)\n",
    "\n",
    "str_one = [test[i] for i in range(int(floor(str_len / 2)))]\n",
    "str_two = [test[j] for j in range(str_len - 1, int(ceil(str_len / 2)) - 1, -1)]\n",
    "\n",
    "print(sorted(str_one) == sorted(str_two))\n"
   ]
  },
  {
   "cell_type": "code",
   "execution_count": null,
   "metadata": {
    "collapsed": true
   },
   "outputs": [],
   "source": [
    "def is_palindrome(my_str):\n",
    "    \"\"\"\n",
    "        Takes a string as input and checks for palindrome status.\n",
    "        Works similarly for even and odd-length strings.\n",
    "        Returns: Boolean, True if palindrome, False if not.\n",
    "    \"\"\"\n",
    "    str_len = len(my_str)\n",
    "    \n",
    "    str_one = [my_str[i] for i in range(int(floor(str_len / 2)))]\n",
    "    str_two = [my_str[j] for j in range(str_len - 1, int(ceil(str_len / 2)) -1, -1)]\n",
    "    \n",
    "    return sorted(str_one) == sorted(str_two)"
   ]
  },
  {
   "cell_type": "code",
   "execution_count": null,
   "metadata": {},
   "outputs": [],
   "source": [
    "print(is_palindrome('hello'))\n",
    "print(is_palindrome('helleh'))\n",
    "print(is_palindrome('adfofda'))\n"
   ]
  },
  {
   "cell_type": "code",
   "execution_count": 2,
   "metadata": {},
   "outputs": [],
   "source": [
    "def is_palindrome(my_str):\n",
    "    \"\"\"\n",
    "        Takes a string as input and checks for palindrome status.\n",
    "        Works similarly for even and odd-length strings.\n",
    "        Returns: Boolean, True if palindrome, False if not.\n",
    "    \"\"\"\n",
    "    assert type(my_str) is str, \"Please enter string as input\"\n",
    "    \n",
    "    str_len = len(my_str)\n",
    "    \n",
    "    str_one = [my_str[i] for i in range(int(floor(str_len / 2)))]\n",
    "    str_two = [my_str[j] for j in range(str_len - 1, int(ceil(str_len / 2)) -1, -1)]\n",
    "    \n",
    "    return sorted(str_one) == sorted(str_two)"
   ]
  },
  {
   "cell_type": "code",
   "execution_count": 5,
   "metadata": {},
   "outputs": [
    {
     "name": "stderr",
     "output_type": "stream",
     "text": [
      ".\n",
      "----------------------------------------------------------------------\n",
      "Ran 1 test in 0.002s\n",
      "\n",
      "OK\n"
     ]
    }
   ],
   "source": [
    "import unittest\n",
    "\n",
    "class palindromeTestCase(unittest.TestCase):\n",
    "    \"\"\"Tests for palindrome function\"\"\"\n",
    "    \n",
    "    def test_is_input_string(self):\n",
    "        self.assertFalse(is_palindrome('hello'))\n",
    "        \n",
    "        \n",
    "if __name__ == '__main__':\n",
    "    unittest.main(argv=['ignore first argv'], exit=False)"
   ]
  },
  {
   "cell_type": "code",
   "execution_count": 7,
   "metadata": {
    "collapsed": true
   },
   "outputs": [],
   "source": [
    "# official solution\n",
    "def is_palindromic(s):\n",
    "    return all(s[i] == s[~i] for i in range(len(s) // 2))"
   ]
  },
  {
   "cell_type": "markdown",
   "metadata": {},
   "source": [
    "### Intermission"
   ]
  },
  {
   "cell_type": "code",
   "execution_count": 14,
   "metadata": {},
   "outputs": [
    {
     "data": {
      "text/plain": [
       "'Name Archimedes, Rank 3'"
      ]
     },
     "execution_count": 14,
     "metadata": {},
     "output_type": "execute_result"
    }
   ],
   "source": [
    "'Name {name}, Rank {rank}'.format(name='Archimedes', rank=3)"
   ]
  }
 ],
 "metadata": {
  "kernelspec": {
   "display_name": "Python 3",
   "language": "python",
   "name": "python3"
  },
  "language_info": {
   "codemirror_mode": {
    "name": "ipython",
    "version": 3
   },
   "file_extension": ".py",
   "mimetype": "text/x-python",
   "name": "python",
   "nbconvert_exporter": "python",
   "pygments_lexer": "ipython3",
   "version": "3.6.3"
  }
 },
 "nbformat": 4,
 "nbformat_minor": 2
}
